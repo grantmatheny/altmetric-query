{
  "nbformat": 4,
  "nbformat_minor": 0,
  "metadata": {
    "colab": {
      "name": "altmetric-test.ipynb",
      "provenance": [],
      "collapsed_sections": [],
      "authorship_tag": "ABX9TyMqx8TbOEC3PY9Cf7E7gtSw",
      "include_colab_link": true
    },
    "kernelspec": {
      "name": "python3",
      "display_name": "Python 3"
    }
  },
  "cells": [
    {
      "cell_type": "markdown",
      "metadata": {
        "id": "view-in-github",
        "colab_type": "text"
      },
      "source": [
        "<a href=\"https://colab.research.google.com/github/grantmatheny/altmetric-query/blob/main/altmetric_test.ipynb\" target=\"_parent\"><img src=\"https://colab.research.google.com/assets/colab-badge.svg\" alt=\"Open In Colab\"/></a>"
      ]
    },
    {
      "cell_type": "code",
      "metadata": {
        "id": "bLWoNfSgWHAE"
      },
      "source": [
        "import requests\r\n",
        "import json"
      ],
      "execution_count": 4,
      "outputs": []
    },
    {
      "cell_type": "code",
      "metadata": {
        "id": "43teZiCHWLnm"
      },
      "source": [
        "data = requests.get('https://api.altmetric.com/v1/citations/1w?num_results=20')\r\n",
        "json_pretty = json.loads(data.text)\r\n",
        "json_obj = json.dumps(json_pretty, indent=2)\r\n",
        "print('Total Results: ' + str(data.json()['query']['total']))\r\n",
        "print('===============================\\n\\n')\r\n",
        "for result in data.json()['results']:\r\n",
        "  print(\"Title: \" + result['title'] + '\\n')\r\n",
        "  if 'doi' in result.keys():\r\n",
        "    print(\"doi: \" + result['doi'] + '\\n')\r\n",
        "  if 'authors' in result.keys():\r\n",
        "    if result['authors'][0].find(',') != -1:\r\n",
        "      author_name = result['authors'][0].split(', ')\r\n",
        "      author_name = [author_name[1], author_name[0]]\r\n",
        "      author_name = ' '.join(author_name)\r\n",
        "      print(str(len(result['authors'])) + \" Authors // First: \" + author_name + '\\n' )\r\n",
        "    else:\r\n",
        "      print(str(len(result['authors'])) + \" Authors // First: \" + result['authors'][0] + '\\n' )\r\n",
        "  if 'abstract' in result.keys():\r\n",
        "    print(\"Abstract: \" + result['abstract'] + '\\n')\r\n",
        "  else:\r\n",
        "    print(\"No Abstract Available\\n\")\r\n",
        "  print('=====================================\\n')\r\n",
        "\r\n"
      ],
      "execution_count": null,
      "outputs": []
    },
    {
      "cell_type": "code",
      "metadata": {
        "colab": {
          "base_uri": "https://localhost:8080/"
        },
        "id": "RINgRQgJYCXc",
        "outputId": "97261125-29db-4591-c253-ff62f5288a92"
      },
      "source": [
        "print('\\n'.join(data.json()['results'][0].keys()))"
      ],
      "execution_count": 35,
      "outputs": [
        {
          "output_type": "stream",
          "text": [
            "title\n",
            "doi\n",
            "pmid\n",
            "altmetric_jid\n",
            "issns\n",
            "journal\n",
            "cohorts\n",
            "abstract\n",
            "context\n",
            "authors\n",
            "type\n",
            "altmetric_id\n",
            "schema\n",
            "is_oa\n",
            "publisher_subjects\n",
            "cited_by_msm_count\n",
            "cited_by_posts_count\n",
            "cited_by_tweeters_count\n",
            "cited_by_feeds_count\n",
            "cited_by_fbwalls_count\n",
            "cited_by_rdts_count\n",
            "cited_by_accounts_count\n",
            "last_updated\n",
            "score\n",
            "history\n",
            "url\n",
            "added_on\n",
            "published_on\n",
            "subjects\n",
            "scopus_subjects\n",
            "readers\n",
            "readers_count\n",
            "images\n",
            "details_url\n"
          ],
          "name": "stdout"
        }
      ]
    }
  ]
}